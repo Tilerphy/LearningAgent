{
 "cells": [
  {
   "cell_type": "markdown",
   "metadata": {
    "nteract": {
     "transient": {
      "deleting": false
     }
    }
   },
   "source": [
    "**1. This workshop's topic:**\n",
    "- Split a complex job in to some sub tasks, the sample complex task is to get the real time weather of a city.\n",
    "- Auto Gen python code to retrieve weather.\n",
    "- Execute auto generated code as an AI Agent.\n",
    "- Get the Real weather as LLM cannot get real time data by itself."
   ]
  },
  {
   "cell_type": "markdown",
   "metadata": {},
   "source": [
    "**2. Background**\n",
    "- Whole Picture\n",
    "\n",
    "<img src=\"img.png\" width=\"500\">\n",
    "\n",
    "- In this workshop\n",
    "\n",
    "<img src=\"img2.png\" width=\"500\">"
   ]
  },
  {
   "cell_type": "markdown",
   "metadata": {
    "nteract": {
     "transient": {
      "deleting": false
     }
    }
   },
   "source": [
    "**3. Preparation:**\n",
    "- Register an account in openweathermap : https://openweathermap.org/\n",
    "- Get API key at https://home.openweathermap.org/api_keys , hold it. Or you can use mine: **eed0e200d2ce2853033d881a1ff523e7**\n",
    "- Prepare python environment."
   ]
  },
  {
   "cell_type": "markdown",
   "metadata": {
    "nteract": {
     "transient": {
      "deleting": false
     }
    }
   },
   "source": [
    "**4. Import needed python libraries.**"
   ]
  },
  {
   "cell_type": "code",
   "execution_count": 1,
   "metadata": {
    "gather": {
     "logged": 1741079180586
    }
   },
   "outputs": [],
   "source": [
    "import os\n",
    "from datetime import datetime\n",
    "from typing import Callable, Dict, Literal, Optional, Union\n",
    "\n",
    "from typing_extensions import Annotated\n",
    "\n",
    "from autogen import (\n",
    "    Agent,\n",
    "    AssistantAgent,\n",
    "    ConversableAgent,\n",
    "    GroupChat,\n",
    "    GroupChatManager,\n",
    "    UserProxyAgent,\n",
    "    config_list_from_json,\n",
    "    register_function\n",
    ")\n",
    "from autogen.agentchat.contrib import agent_builder\n",
    "from autogen.cache.in_memory_cache import InMemoryCache\n",
    "from autogen.coding import DockerCommandLineCodeExecutor, LocalCommandLineCodeExecutor"
   ]
  },
  {
   "cell_type": "markdown",
   "metadata": {
    "nteract": {
     "transient": {
      "deleting": false
     }
    }
   },
   "source": [
    "**5. Set the LLM configuration.**\n",
    "\n",
    "**DO NOT publish this key in public, its mine. :)**\n",
    "\n",
    "**You can change api_key and base_url to yours.**"
   ]
  },
  {
   "cell_type": "code",
   "execution_count": 2,
   "metadata": {
    "gather": {
     "logged": 1741079182363
    }
   },
   "outputs": [],
   "source": [
    "os.environ[\"OPENAI_API_KEY\"] = \"your-api-key\"\n",
    "os.environ[\"OPENAI_BASE_URL\"] = \"your-base-url\"\n",
    "config_list = [\n",
    "    {\"model\": \"gpt-4o\", \n",
    "    \"api_key\": os.environ[\"OPENAI_API_KEY\"],\n",
    "    \"api_type\": \"azure\", \n",
    "    \"base_url\":os.environ[\"OPENAI_BASE_URL\"],\n",
    "    \"api_version\":\"2024-05-01-preview\"},\n",
    "    {\"model\": \"gpt-4o\",\n",
    "     \"api_key\": os.environ[\"OPENAI_API_KEY\"], \n",
    "     \"api_type\": \"azure\",\n",
    "     \"base_url\":os.environ[\"OPENAI_BASE_URL\"],\n",
    "     \"api_version\":\"2024-05-01-preview\"},\n",
    "]"
   ]
  },
  {
   "cell_type": "markdown",
   "metadata": {
    "nteract": {
     "transient": {
      "deleting": false
     }
    }
   },
   "source": [
    "**Create a planner agent.**\n",
    "\n",
    "**It will act as a planer to split the complex task into pieces, and it will fix the error in each flows. Hope it can do it well. :)**"
   ]
  },
  {
   "cell_type": "code",
   "execution_count": 3,
   "metadata": {
    "gather": {
     "logged": 1741079183908
    }
   },
   "outputs": [],
   "source": [
    "# Create planner agent.\n",
    "planner = AssistantAgent(\n",
    "    name=\"planner\",\n",
    "    display_name=\"👨‍🏫(planner)\",\n",
    "    llm_config={\n",
    "        \"config_list\": config_list,\n",
    "        \"cache_seed\": None,  # Disable legacy cache.\n",
    "    },\n",
    "    system_message=\"\"\" You are a helpful AI assistant. You suggest a feasible plan\n",
    "    for finishing a complex task by decomposing it into 3-5 sub-tasks. \n",
    "    If the plan is not good, suggest a better plan. \n",
    "    If the execution is wrong, analyze the error and suggest a fix.\"\"\",\n",
    ")\n",
    "\n",
    "\n",
    "# Create a planner user agent used to interact with the planner.\n",
    "planner_user = UserProxyAgent(\n",
    "    name=\"planner_self\",\n",
    "    display_name=\"👨‍🏫(planner self)\",\n",
    "    human_input_mode=\"NEVER\",\n",
    "    code_execution_config=False,\n",
    ")\n",
    "\n",
    "# The function for asking the planner.\n",
    "\n",
    "def task_planner(question: Annotated[str, \"Question to ask the planner.\"]) -> str:\n",
    "    with InMemoryCache() as cache:\n",
    "        planner_user.initiate_chat(planner, message=question, max_turns=1, cache=cache)\n",
    "    # return the last message received from the planner\n",
    "    return planner_user.last_message()[\"content\"]"
   ]
  },
  {
   "cell_type": "markdown",
   "metadata": {
    "nteract": {
     "transient": {
      "deleting": false
     }
    }
   },
   "source": [
    "**Create an assistant agent, it will go to complete the detail sub tasks, include generate python codes.**"
   ]
  },
  {
   "cell_type": "code",
   "execution_count": 4,
   "metadata": {
    "gather": {
     "logged": 1741075492333
    }
   },
   "outputs": [],
   "source": [
    "# Create assistant agent.\n",
    "assistant = AssistantAgent(\n",
    "    name=\"assistant\",\n",
    "    display_name=\"👨‍💻(assistant)\",\n",
    "    system_message=\"\"\"\n",
    "    You are a helpful AI assistant. You have an API Key of OpenWeatherMap: eed0e200d2ce2853033d881a1ff523e7.\n",
    "    You need to use the task planner to decompose a complex task into sub-tasks. \n",
    "    Make sure your follow through the sub-tasks. \n",
    "    If you cannot get the realtime data, write Python code in markdown blocks, and I will execute them.\n",
    "    Give the user a final solution at the end. \n",
    "    Return a word TERMINATE only if the sub-tasks are completed\n",
    "    \"\"\",\n",
    "    llm_config={\n",
    "        \"config_list\": config_list,\n",
    "        \"cache_seed\": None,  # Disable legacy cache.\n",
    "    },\n",
    ")\n",
    "\n",
    "# Setting up code executor.\n",
    "os.makedirs(\"planning\", exist_ok=True)\n",
    "# Use DockerCommandLineCodeExecutor to run code in a docker container.\n",
    "# code_executor = DockerCommandLineCodeExecutor(work_dir=\"planning\")\n",
    "code_executor = LocalCommandLineCodeExecutor(work_dir=\"planning\")\n",
    "\n",
    "# Create user proxy agent used to interact with the assistant.\n",
    "user_proxy = UserProxyAgent(\n",
    "    name=\"user\",\n",
    "    display_name=\"👨‍⚖️(user)\",\n",
    "    human_input_mode=\"ALWAYS\",\n",
    "    is_termination_msg=lambda x: \"content\" in x\n",
    "    and x[\"content\"] is not None\n",
    "    and x[\"content\"].rstrip().endswith(\"TERMINATE\"),\n",
    "    code_execution_config={\"executor\": code_executor},\n",
    ")\n",
    "\n",
    "# Register the function to the agent pair.\n",
    "register_function(\n",
    "    task_planner,\n",
    "    caller=assistant,\n",
    "    executor=user_proxy,\n",
    "    name=\"task_planner\",\n",
    "    description=\"A task planner than can help you with decomposing a complex task into sub-tasks.\",\n",
    ")"
   ]
  },
  {
   "cell_type": "markdown",
   "metadata": {
    "nteract": {
     "transient": {
      "deleting": false
     }
    }
   },
   "source": [
    "**Define the task of today workshop: Ask it how the weather like of Da Nang today.**"
   ]
  },
  {
   "cell_type": "code",
   "execution_count": 5,
   "metadata": {
    "gather": {
     "logged": 1741075707147
    }
   },
   "outputs": [
    {
     "name": "stdout",
     "output_type": "stream",
     "text": [
      "Today is 2025-03-20. How can I get the weather of a place?\n"
     ]
    }
   ],
   "source": [
    "task = (\n",
    "    f\"Today is {datetime.now().date()}. How can I get the weather of a place?\"\n",
    ")\n",
    "print(task)"
   ]
  },
  {
   "cell_type": "markdown",
   "metadata": {
    "nteract": {
     "transient": {
      "deleting": false
     }
    }
   },
   "source": [
    "**Run task.**\n",
    "\n",
    "When two agents are communicating with each other, we have chance to help them.\n",
    "\n",
    "Do you remember the API key of openweathermap? In most of situation, AI will generate code based on openweathermap.\n",
    "\n",
    "But if not, you can type in this requirement at your turn to input.\n",
    "\n",
    "You can input empty in the textbox, means they are playing well, just continue.\n",
    "\n",
    "**IF any assistant said that: Error: Function python not found. Please reply nothing and wait assitant generate a new code.**\n"
   ]
  },
  {
   "cell_type": "code",
   "execution_count": null,
   "metadata": {
    "gather": {
     "logged": 1741076278032
    }
   },
   "outputs": [
    {
     "name": "stdout",
     "output_type": "stream",
     "text": [
      "\u001b[33m👨‍⚖️(user)\u001b[0m (to 👨‍💻(assistant)):\n",
      "\n",
      "Today is 2025-03-20. How can I get the weather of a place?\n",
      "\n",
      "--------------------------------------------------------------------------------\n",
      "\u001b[33m👨‍💻(assistant)\u001b[0m (to 👨‍⚖️(user)):\n",
      "\n",
      "\u001b[32m***** Suggested tool call (call_rjv2bQInUmfRBzPBeOQpFhi3): task_planner *****\u001b[0m\n",
      "Arguments: \n",
      "{\"question\":\"How to get the weather of a place?\"}\n",
      "\u001b[32m*****************************************************************************\u001b[0m\n",
      "\n",
      "--------------------------------------------------------------------------------\n"
     ]
    },
    {
     "name": "stdin",
     "output_type": "stream",
     "text": [
      "Replying as user. Provide feedback to assistant. Press enter to skip and use auto-reply, or type 'exit' to end the conversation:  \n"
     ]
    },
    {
     "name": "stdout",
     "output_type": "stream",
     "text": [
      "\u001b[31m\n",
      ">>>>>>>> NO HUMAN INPUT RECEIVED.\u001b[0m\n",
      "\u001b[31m\n",
      ">>>>>>>> USING AUTO REPLY...\u001b[0m\n",
      "\u001b[35m\n",
      ">>>>>>>> EXECUTING FUNCTION task_planner...\u001b[0m\n",
      "\u001b[33m👨‍🏫(planner self)\u001b[0m (to 👨‍🏫(planner)):\n",
      "\n",
      "How to get the weather of a place?\n",
      "\n",
      "--------------------------------------------------------------------------------\n",
      "\u001b[33m👨‍🏫(planner)\u001b[0m (to 👨‍🏫(planner self)):\n",
      "\n",
      "To get the weather of a place, here is a feasible plan broken down into 3-5 sub-tasks:\n",
      "\n",
      "### Plan:\n",
      "1. **Identify the Location**:\n",
      "   - Determine the place for which you need weather information.\n",
      "   - Confirm its name and, if necessary, detailed geographical specifics such as city, region, country, or latitude/longitude.\n",
      "\n",
      "2. **Choose a Weather Information Source**:\n",
      "   - Select a reliable weather service or platform such as Google Weather, AccuWeather, Weather.com, OpenWeatherMap, or a weather API.\n",
      "\n",
      "3. **Retrieve Weather Data**:\n",
      "   - Use the chosen source to look up the weather for the identified location.\n",
      "   - If using an API, ensure you have access credentials or key, and format the query correctly.\n",
      "\n",
      "4. **Analyze and Interpret Data**:\n",
      "   - Understand and interpret the data presented (e.g., current temperature, humidity, wind speed, a chance of precipitation).\n",
      "   - Identify specific metrics you are looking for, such as current conditions or forecast.\n",
      "\n",
      "5. **Present or Save Results**:\n",
      "   - Record or share the weather information in a convenient format, such as text or visualization (table, graph, etc.).\n",
      "\n",
      "Let me know if you need further tweaks or details!\n",
      "\n",
      "--------------------------------------------------------------------------------\n",
      "\u001b[33m👨‍⚖️(user)\u001b[0m (to 👨‍💻(assistant)):\n",
      "\n",
      "\u001b[32m***** Response from calling tool (call_rjv2bQInUmfRBzPBeOQpFhi3) *****\u001b[0m\n",
      "To get the weather of a place, here is a feasible plan broken down into 3-5 sub-tasks:\n",
      "\n",
      "### Plan:\n",
      "1. **Identify the Location**:\n",
      "   - Determine the place for which you need weather information.\n",
      "   - Confirm its name and, if necessary, detailed geographical specifics such as city, region, country, or latitude/longitude.\n",
      "\n",
      "2. **Choose a Weather Information Source**:\n",
      "   - Select a reliable weather service or platform such as Google Weather, AccuWeather, Weather.com, OpenWeatherMap, or a weather API.\n",
      "\n",
      "3. **Retrieve Weather Data**:\n",
      "   - Use the chosen source to look up the weather for the identified location.\n",
      "   - If using an API, ensure you have access credentials or key, and format the query correctly.\n",
      "\n",
      "4. **Analyze and Interpret Data**:\n",
      "   - Understand and interpret the data presented (e.g., current temperature, humidity, wind speed, a chance of precipitation).\n",
      "   - Identify specific metrics you are looking for, such as current conditions or forecast.\n",
      "\n",
      "5. **Present or Save Results**:\n",
      "   - Record or share the weather information in a convenient format, such as text or visualization (table, graph, etc.).\n",
      "\n",
      "Let me know if you need further tweaks or details!\n",
      "\u001b[32m**********************************************************************\u001b[0m\n",
      "\n",
      "--------------------------------------------------------------------------------\n",
      "\u001b[33m👨‍💻(assistant)\u001b[0m (to 👨‍⚖️(user)):\n",
      "\n",
      "To get the weather of a place, these sub-steps can help:\n",
      "\n",
      "1. **Identify the Location**:\n",
      "   - Decide on the place for which you want the weather.\n",
      "\n",
      "2. **Choose a Weather Information Source**:\n",
      "   - Use a reliable service like OpenWeatherMap or any other trusted platform.\n",
      "\n",
      "3. **Retrieve Weather Data**:\n",
      "   - Fetch the data using OpenWeatherMap or another platform's API.\n",
      "\n",
      "4. **Analyze and Interpret Data**:\n",
      "   - Understand and extract meaningful weather insights (e.g., temperature, humidity, precipitation).\n",
      "\n",
      "5. **Present or Save Results**:\n",
      "   - Share the details in a user-friendly format.\n",
      "\n",
      "If you can provide me the location, I can help with the rest of the process. Could you specify the place you're interested in?\n",
      "\n",
      "--------------------------------------------------------------------------------\n"
     ]
    },
    {
     "name": "stdin",
     "output_type": "stream",
     "text": [
      "Replying as user. Provide feedback to assistant. Press enter to skip and use auto-reply, or type 'exit' to end the conversation:  Da Nang\n"
     ]
    },
    {
     "name": "stdout",
     "output_type": "stream",
     "text": [
      "\u001b[33m👨‍⚖️(user)\u001b[0m (to 👨‍💻(assistant)):\n",
      "\n",
      "Da Nang\n",
      "\n",
      "--------------------------------------------------------------------------------\n",
      "\u001b[33m👨‍💻(assistant)\u001b[0m (to 👨‍⚖️(user)):\n",
      "\n",
      "To get the weather for Da Nang, I will use the OpenWeatherMap API to fetch real-time data. I need to write Python code to retrieve this information since I cannot fetch real-time data directly. Here's the code:\n",
      "\n",
      "```python\n",
      "import requests\n",
      "\n",
      "# API credentials\n",
      "api_key = \"eed0e200d2ce2853033d881a1ff523e7\"\n",
      "city_name = \"Da Nang\"\n",
      "base_url = \"https://api.openweathermap.org/data/2.5/weather\"\n",
      "\n",
      "# Construct the request URL\n",
      "params = {\n",
      "    \"q\": city_name,\n",
      "    \"appid\": api_key,\n",
      "    \"units\": \"metric\"  # Metric units for temperature in Celsius\n",
      "}\n",
      "\n",
      "# Fetch the weather data\n",
      "response = requests.get(base_url, params=params)\n",
      "weather_data = response.json()\n",
      "\n",
      "# Display the output\n",
      "weather_data\n",
      "```\n",
      "\n",
      "Let me know once the Python code is executed so I can analyze the weather data for Da Nang!\n",
      "\n",
      "--------------------------------------------------------------------------------\n"
     ]
    },
    {
     "name": "stdin",
     "output_type": "stream",
     "text": [
      "Replying as user. Provide feedback to assistant. Press enter to skip and use auto-reply, or type 'exit' to end the conversation:  \n"
     ]
    },
    {
     "name": "stdout",
     "output_type": "stream",
     "text": [
      "\u001b[31m\n",
      ">>>>>>>> NO HUMAN INPUT RECEIVED.\u001b[0m\n",
      "\u001b[31m\n",
      ">>>>>>>> USING AUTO REPLY...\u001b[0m\n",
      "\u001b[31m\n",
      ">>>>>>>> EXECUTING CODE BLOCK (inferred language is python)...\u001b[0m\n",
      "\u001b[33m👨‍⚖️(user)\u001b[0m (to 👨‍💻(assistant)):\n",
      "\n",
      "exitcode: 0 (execution succeeded)\n",
      "Code output: \n",
      "\n",
      "--------------------------------------------------------------------------------\n",
      "\u001b[33m👨‍💻(assistant)\u001b[0m (to 👨‍⚖️(user)):\n",
      "\n",
      "It looks like the execution succeeded, but no output data has been provided. We need the weather data to proceed further. Could you please share the weather data or rerun the code and provide the JSON output received from OpenWeatherMap?\n",
      "\n",
      "--------------------------------------------------------------------------------\n"
     ]
    },
    {
     "name": "stdin",
     "output_type": "stream",
     "text": [
      "Replying as user. Provide feedback to assistant. Press enter to skip and use auto-reply, or type 'exit' to end the conversation:  change the code and print output\n"
     ]
    },
    {
     "name": "stdout",
     "output_type": "stream",
     "text": [
      "\u001b[33m👨‍⚖️(user)\u001b[0m (to 👨‍💻(assistant)):\n",
      "\n",
      "change the code and print output\n",
      "\n",
      "--------------------------------------------------------------------------------\n",
      "\u001b[33m👨‍💻(assistant)\u001b[0m (to 👨‍⚖️(user)):\n",
      "\n",
      "Here’s the modified code to ensure the response output is printed. Please run it again:\n",
      "\n",
      "```python\n",
      "import requests\n",
      "\n",
      "# API credentials\n",
      "api_key = \"eed0e200d2ce2853033d881a1ff523e7\"\n",
      "city_name = \"Da Nang\"\n",
      "base_url = \"https://api.openweathermap.org/data/2.5/weather\"\n",
      "\n",
      "# Construct the request URL\n",
      "params = {\n",
      "    \"q\": city_name,\n",
      "    \"appid\": api_key,\n",
      "    \"units\": \"metric\"  # Metric units for temperature in Celsius\n",
      "}\n",
      "\n",
      "# Fetch the weather data\n",
      "response = requests.get(base_url, params=params)\n",
      "weather_data = response.json()\n",
      "\n",
      "# Print the output\n",
      "print(weather_data)\n",
      "```\n",
      "\n",
      "Once you have the printed output from this modified code, please share it with me so I can interpret the weather information for Da Nang!\n",
      "\n",
      "--------------------------------------------------------------------------------\n"
     ]
    },
    {
     "name": "stdin",
     "output_type": "stream",
     "text": [
      "Replying as user. Provide feedback to assistant. Press enter to skip and use auto-reply, or type 'exit' to end the conversation:  \n"
     ]
    },
    {
     "name": "stdout",
     "output_type": "stream",
     "text": [
      "\u001b[31m\n",
      ">>>>>>>> NO HUMAN INPUT RECEIVED.\u001b[0m\n",
      "\u001b[31m\n",
      ">>>>>>>> USING AUTO REPLY...\u001b[0m\n",
      "\u001b[31m\n",
      ">>>>>>>> EXECUTING CODE BLOCK (inferred language is python)...\u001b[0m\n",
      "\u001b[33m👨‍⚖️(user)\u001b[0m (to 👨‍💻(assistant)):\n",
      "\n",
      "exitcode: 0 (execution succeeded)\n",
      "Code output: {'coord': {'lon': 108.2208, 'lat': 16.0678}, 'weather': [{'id': 803, 'main': 'Clouds', 'description': 'broken clouds', 'icon': '04d'}], 'base': 'stations', 'main': {'temp': 19.99, 'feels_like': 20.21, 'temp_min': 19.99, 'temp_max': 19.99, 'pressure': 1025, 'humidity': 83, 'sea_level': 1025, 'grnd_level': 1020}, 'visibility': 10000, 'wind': {'speed': 1.03, 'deg': 0}, 'clouds': {'all': 75}, 'dt': 1742441292, 'sys': {'type': 1, 'id': 9306, 'country': 'VN', 'sunrise': 1742424686, 'sunset': 1742468272}, 'timezone': 25200, 'id': 1583992, 'name': 'Turan', 'cod': 200}\n",
      "\n",
      "\n",
      "--------------------------------------------------------------------------------\n",
      "\u001b[33m👨‍💻(assistant)\u001b[0m (to 👨‍⚖️(user)):\n",
      "\n",
      "Here is the interpreted weather data for Da Nang:\n",
      "\n",
      "- **Location**: Da Nang, Vietnam\n",
      "- **Coordinates**: Latitude 16.0678, Longitude 108.2208\n",
      "- **Weather Description**: Broken clouds (Cloudy skies)\n",
      "  - Condition: Clouds\n",
      "  - Icon Code: 04d\n",
      "- **Temperature**:\n",
      "  - Current: 19.99°C\n",
      "  - Feels like: 20.21°C\n",
      "  - Minimum: 19.99°C\n",
      "  - Maximum: 19.99°C\n",
      "- **Pressure**:\n",
      "  - Atmospheric Pressure: 1025 hPa\n",
      "  - Sea Level Pressure: 1025 hPa\n",
      "  - Ground Level Pressure: 1020 hPa\n",
      "- **Humidity**: 83% (Quite humid)\n",
      "- **Visibility**: 10 km (Clear visibility)\n",
      "- **Wind**:\n",
      "  - Speed: 1.03 m/s\n",
      "  - Direction: 0° (North)\n",
      "- **Cloud Cover**: 75% (Most of the sky covered with clouds)\n",
      "- **Sunrise**: At timestamp 1742424686 (approximately local time: 6:31 AM)\n",
      "- **Sunset**: At timestamp 1742468272 (approximately local time: 6:31 PM)\n",
      "- **Time Zone**: GMT +7 hours from UTC (Vietnam's time zone)\n",
      "\n",
      "Please let me know if you need further information related to these weather details!\n",
      "\n",
      "--------------------------------------------------------------------------------\n"
     ]
    }
   ],
   "source": [
    "# Use Cache.disk to cache LLM responses. Change cache_seed for different responses.\n",
    "with InMemoryCache() as cache:\n",
    "    # the assistant receives a message from the user, which contains the task description\n",
    "    user_proxy.initiate_chat(\n",
    "        assistant,\n",
    "        message=task,\n",
    "        cache=cache\n",
    "    )"
   ]
  },
  {
   "cell_type": "code",
   "execution_count": null,
   "metadata": {},
   "outputs": [],
   "source": []
  },
  {
   "cell_type": "code",
   "execution_count": null,
   "metadata": {},
   "outputs": [],
   "source": []
  }
 ],
 "metadata": {
  "kernel_info": {
   "name": "python310-sdkv2"
  },
  "kernelspec": {
   "display_name": "Python 3 (ipykernel)",
   "language": "python",
   "name": "python3"
  },
  "language_info": {
   "codemirror_mode": {
    "name": "ipython",
    "version": 3
   },
   "file_extension": ".py",
   "mimetype": "text/x-python",
   "name": "python",
   "nbconvert_exporter": "python",
   "pygments_lexer": "ipython3",
   "version": "3.12.6"
  },
  "microsoft": {
   "host": {
    "AzureML": {
     "notebookHasBeenCompleted": true
    }
   },
   "ms_spell_check": {
    "ms_spell_check_language": "en"
   }
  },
  "nteract": {
   "version": "nteract-front-end@1.0.0"
  }
 },
 "nbformat": 4,
 "nbformat_minor": 4
}
